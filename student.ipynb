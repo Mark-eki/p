{
 "cells": [
  {
   "cell_type": "markdown",
   "id": "2fe1e3d9-91e7-4c5e-a5d8-f8f6a6d15988",
   "metadata": {},
   "source": [
    "# Analysis of Aviation Data for New Enterprise"
   ]
  },
  {
   "cell_type": "markdown",
   "id": "068bd817-cda8-46a4-a0ba-7663fcea50e5",
   "metadata": {},
   "source": [
    "## 1. Introduction into the Business"
   ]
  },
  {
   "cell_type": "markdown",
   "id": "26f62bcd-3b83-453e-bb7b-f11f18f9901c",
   "metadata": {},
   "source": [
    "### 1.1 Understanding the Business"
   ]
  },
  {
   "cell_type": "markdown",
   "id": "38edaf5e-f08d-489b-ae7c-9534f3aeaa58",
   "metadata": {},
   "source": [
    "##### At Jungle Ltd, we specialise in Transportation of goods and services. The company was started in 2010 by John Doe and has grown from a 3 vehicle  business to a 100 vehicle operating business machinery.  Our top of the line vehicles offer comfortable, luxurious and affordable transport from various places in the country. We pride ourselves on being on time and offering our clients the best experience."
   ]
  },
  {
   "cell_type": "markdown",
   "id": "2c7302c6-e429-4d84-84aa-900d37796c2a",
   "metadata": {},
   "source": [
    "### 1.2 Business Problem"
   ]
  },
  {
   "cell_type": "markdown",
   "id": "78395d4e-376b-49e0-a9cf-b99f9c0ee919",
   "metadata": {},
   "source": [
    "##### With the success of the business, The C.E.O has decided its time to take its interest further by investing in another branch business of flying people to their destinations. To ensure taking our clients arrive faster and safer, The C.E.O decide to acquire fleet of airplanes for both  private and commercial use. With no clue about how to run an arplane service, it has to be determined which are the best airplane to buy with the  lowest risk of use"
   ]
  },
  {
   "cell_type": "markdown",
   "id": "c9d65b73-f079-46a8-87c3-0764d36678a6",
   "metadata": {},
   "source": [
    "### 1.3 Purpose of Analysis and Objectives"
   ]
  },
  {
   "cell_type": "markdown",
   "id": "0b3bd9da-f3e7-4856-9179-fc1a603038bb",
   "metadata": {},
   "source": [
    "##### The purpose of this analysis is to use the dataset to come up with a reasonable actionable inteligence about the aviation industry where our objective is to start a new business in the airline business."
   ]
  },
  {
   "cell_type": "markdown",
   "id": "ba936e2d-42f4-47b8-8ea8-6056a5ca6078",
   "metadata": {},
   "source": [
    "### 1.4 Limitation of dataset"
   ]
  },
  {
   "cell_type": "markdown",
   "id": "06ed3139-c631-4f57-872f-954dac764b78",
   "metadata": {},
   "source": [
    "#### We are operating under the assumption that the dataset is accurate with the required information required to make an informed decision"
   ]
  },
  {
   "cell_type": "markdown",
   "id": "4bc4b219-db37-4874-835c-b5f5c798c9aa",
   "metadata": {},
   "source": [
    "## 2.Data Understanding"
   ]
  },
  {
   "cell_type": "markdown",
   "id": "481097e3-3647-4c4c-80be-4c941b285a5b",
   "metadata": {},
   "source": [
    "##### Here we are going to use the necessary instruments to read the data from the National Transport Safety Board (NTSB)."
   ]
  },
  {
   "cell_type": "code",
   "execution_count": 326,
   "id": "7325fbfd-10b6-431d-83f6-34b71730cf4f",
   "metadata": {},
   "outputs": [],
   "source": [
    "#importing libraries required for data cleaning, manipulating and visualizations.\n",
    "import pandas as pd \n",
    "import numpy as np\n",
    "import matplotlib.pyplot as plt\n",
    "%matplotlib inline\n",
    "import seaborn as sn"
   ]
  },
  {
   "cell_type": "markdown",
   "id": "3bca2cd3-ce63-4571-9834-d86f677ccee0",
   "metadata": {},
   "source": [
    "### 2.1 Loading the dataframe from the local storage point"
   ]
  },
  {
   "cell_type": "code",
   "execution_count": 327,
   "id": "45ec77ef-6619-4b4c-b3fb-3ed1020e8236",
   "metadata": {
    "scrolled": true
   },
   "outputs": [
    {
     "data": {
      "text/html": [
       "<div>\n",
       "<style scoped>\n",
       "    .dataframe tbody tr th:only-of-type {\n",
       "        vertical-align: middle;\n",
       "    }\n",
       "\n",
       "    .dataframe tbody tr th {\n",
       "        vertical-align: top;\n",
       "    }\n",
       "\n",
       "    .dataframe thead th {\n",
       "        text-align: right;\n",
       "    }\n",
       "</style>\n",
       "<table border=\"1\" class=\"dataframe\">\n",
       "  <thead>\n",
       "    <tr style=\"text-align: right;\">\n",
       "      <th></th>\n",
       "      <th>Event.Id</th>\n",
       "      <th>Investigation.Type</th>\n",
       "      <th>Accident.Number</th>\n",
       "      <th>Event.Date</th>\n",
       "      <th>Location</th>\n",
       "      <th>Country</th>\n",
       "      <th>Latitude</th>\n",
       "      <th>Longitude</th>\n",
       "      <th>Airport.Code</th>\n",
       "      <th>Airport.Name</th>\n",
       "      <th>...</th>\n",
       "      <th>Purpose.of.flight</th>\n",
       "      <th>Air.carrier</th>\n",
       "      <th>Total.Fatal.Injuries</th>\n",
       "      <th>Total.Serious.Injuries</th>\n",
       "      <th>Total.Minor.Injuries</th>\n",
       "      <th>Total.Uninjured</th>\n",
       "      <th>Weather.Condition</th>\n",
       "      <th>Broad.phase.of.flight</th>\n",
       "      <th>Report.Status</th>\n",
       "      <th>Publication.Date</th>\n",
       "    </tr>\n",
       "  </thead>\n",
       "  <tbody>\n",
       "    <tr>\n",
       "      <th>0</th>\n",
       "      <td>20001218X45444</td>\n",
       "      <td>Accident</td>\n",
       "      <td>SEA87LA080</td>\n",
       "      <td>10/24/1948</td>\n",
       "      <td>MOOSE CREEK, ID</td>\n",
       "      <td>United States</td>\n",
       "      <td>NaN</td>\n",
       "      <td>NaN</td>\n",
       "      <td>NaN</td>\n",
       "      <td>NaN</td>\n",
       "      <td>...</td>\n",
       "      <td>Personal</td>\n",
       "      <td>NaN</td>\n",
       "      <td>2.0</td>\n",
       "      <td>0.0</td>\n",
       "      <td>0.0</td>\n",
       "      <td>0.0</td>\n",
       "      <td>UNK</td>\n",
       "      <td>Cruise</td>\n",
       "      <td>Probable Cause</td>\n",
       "      <td>NaN</td>\n",
       "    </tr>\n",
       "    <tr>\n",
       "      <th>1</th>\n",
       "      <td>20001218X45447</td>\n",
       "      <td>Accident</td>\n",
       "      <td>LAX94LA336</td>\n",
       "      <td>7/19/1962</td>\n",
       "      <td>BRIDGEPORT, CA</td>\n",
       "      <td>United States</td>\n",
       "      <td>NaN</td>\n",
       "      <td>NaN</td>\n",
       "      <td>NaN</td>\n",
       "      <td>NaN</td>\n",
       "      <td>...</td>\n",
       "      <td>Personal</td>\n",
       "      <td>NaN</td>\n",
       "      <td>4.0</td>\n",
       "      <td>0.0</td>\n",
       "      <td>0.0</td>\n",
       "      <td>0.0</td>\n",
       "      <td>UNK</td>\n",
       "      <td>Unknown</td>\n",
       "      <td>Probable Cause</td>\n",
       "      <td>19-09-1996</td>\n",
       "    </tr>\n",
       "    <tr>\n",
       "      <th>2</th>\n",
       "      <td>20061025X01555</td>\n",
       "      <td>Accident</td>\n",
       "      <td>NYC07LA005</td>\n",
       "      <td>8/30/1974</td>\n",
       "      <td>Saltville, VA</td>\n",
       "      <td>United States</td>\n",
       "      <td>36.922223</td>\n",
       "      <td>-81.878056</td>\n",
       "      <td>NaN</td>\n",
       "      <td>NaN</td>\n",
       "      <td>...</td>\n",
       "      <td>Personal</td>\n",
       "      <td>NaN</td>\n",
       "      <td>3.0</td>\n",
       "      <td>NaN</td>\n",
       "      <td>NaN</td>\n",
       "      <td>NaN</td>\n",
       "      <td>IMC</td>\n",
       "      <td>Cruise</td>\n",
       "      <td>Probable Cause</td>\n",
       "      <td>26-02-2007</td>\n",
       "    </tr>\n",
       "    <tr>\n",
       "      <th>3</th>\n",
       "      <td>20001218X45448</td>\n",
       "      <td>Accident</td>\n",
       "      <td>LAX96LA321</td>\n",
       "      <td>6/19/1977</td>\n",
       "      <td>EUREKA, CA</td>\n",
       "      <td>United States</td>\n",
       "      <td>NaN</td>\n",
       "      <td>NaN</td>\n",
       "      <td>NaN</td>\n",
       "      <td>NaN</td>\n",
       "      <td>...</td>\n",
       "      <td>Personal</td>\n",
       "      <td>NaN</td>\n",
       "      <td>2.0</td>\n",
       "      <td>0.0</td>\n",
       "      <td>0.0</td>\n",
       "      <td>0.0</td>\n",
       "      <td>IMC</td>\n",
       "      <td>Cruise</td>\n",
       "      <td>Probable Cause</td>\n",
       "      <td>12/9/2000</td>\n",
       "    </tr>\n",
       "    <tr>\n",
       "      <th>4</th>\n",
       "      <td>20041105X01764</td>\n",
       "      <td>Accident</td>\n",
       "      <td>CHI79FA064</td>\n",
       "      <td>8/2/1979</td>\n",
       "      <td>Canton, OH</td>\n",
       "      <td>United States</td>\n",
       "      <td>NaN</td>\n",
       "      <td>NaN</td>\n",
       "      <td>NaN</td>\n",
       "      <td>NaN</td>\n",
       "      <td>...</td>\n",
       "      <td>Personal</td>\n",
       "      <td>NaN</td>\n",
       "      <td>1.0</td>\n",
       "      <td>2.0</td>\n",
       "      <td>NaN</td>\n",
       "      <td>0.0</td>\n",
       "      <td>VMC</td>\n",
       "      <td>Approach</td>\n",
       "      <td>Probable Cause</td>\n",
       "      <td>16-04-1980</td>\n",
       "    </tr>\n",
       "  </tbody>\n",
       "</table>\n",
       "<p>5 rows × 31 columns</p>\n",
       "</div>"
      ],
      "text/plain": [
       "         Event.Id Investigation.Type Accident.Number  Event.Date  \\\n",
       "0  20001218X45444           Accident      SEA87LA080  10/24/1948   \n",
       "1  20001218X45447           Accident      LAX94LA336   7/19/1962   \n",
       "2  20061025X01555           Accident      NYC07LA005   8/30/1974   \n",
       "3  20001218X45448           Accident      LAX96LA321   6/19/1977   \n",
       "4  20041105X01764           Accident      CHI79FA064    8/2/1979   \n",
       "\n",
       "          Location        Country   Latitude   Longitude Airport.Code  \\\n",
       "0  MOOSE CREEK, ID  United States        NaN         NaN          NaN   \n",
       "1   BRIDGEPORT, CA  United States        NaN         NaN          NaN   \n",
       "2    Saltville, VA  United States  36.922223  -81.878056          NaN   \n",
       "3       EUREKA, CA  United States        NaN         NaN          NaN   \n",
       "4       Canton, OH  United States        NaN         NaN          NaN   \n",
       "\n",
       "  Airport.Name  ... Purpose.of.flight Air.carrier Total.Fatal.Injuries  \\\n",
       "0          NaN  ...          Personal         NaN                  2.0   \n",
       "1          NaN  ...          Personal         NaN                  4.0   \n",
       "2          NaN  ...          Personal         NaN                  3.0   \n",
       "3          NaN  ...          Personal         NaN                  2.0   \n",
       "4          NaN  ...          Personal         NaN                  1.0   \n",
       "\n",
       "  Total.Serious.Injuries Total.Minor.Injuries Total.Uninjured  \\\n",
       "0                    0.0                  0.0             0.0   \n",
       "1                    0.0                  0.0             0.0   \n",
       "2                    NaN                  NaN             NaN   \n",
       "3                    0.0                  0.0             0.0   \n",
       "4                    2.0                  NaN             0.0   \n",
       "\n",
       "  Weather.Condition  Broad.phase.of.flight   Report.Status Publication.Date  \n",
       "0               UNK                 Cruise  Probable Cause              NaN  \n",
       "1               UNK                Unknown  Probable Cause       19-09-1996  \n",
       "2               IMC                 Cruise  Probable Cause       26-02-2007  \n",
       "3               IMC                 Cruise  Probable Cause        12/9/2000  \n",
       "4               VMC               Approach  Probable Cause       16-04-1980  \n",
       "\n",
       "[5 rows x 31 columns]"
      ]
     },
     "execution_count": 327,
     "metadata": {},
     "output_type": "execute_result"
    }
   ],
   "source": [
    "df = pd.read_csv(\"Desktop/project/AviationData/AviationData.csv\", low_memory= False)\n",
    "df.head(5)"
   ]
  },
  {
   "cell_type": "markdown",
   "id": "4befb87c-cbe2-41a2-9d97-3589a67cbb54",
   "metadata": {},
   "source": [
    "### 2.1 Here we look at what our data looks like "
   ]
  },
  {
   "cell_type": "code",
   "execution_count": 328,
   "id": "332a1b10-35bf-4634-98eb-b6e9e063ee0e",
   "metadata": {},
   "outputs": [
    {
     "data": {
      "text/plain": [
       "(88889, 31)"
      ]
     },
     "execution_count": 328,
     "metadata": {},
     "output_type": "execute_result"
    }
   ],
   "source": [
    "# checking the dimesnsions of our data i.e rows,columns\n",
    "df.shape"
   ]
  },
  {
   "cell_type": "code",
   "execution_count": 329,
   "id": "76ab6640-66cf-43a8-b20c-803525b8851f",
   "metadata": {},
   "outputs": [
    {
     "data": {
      "text/plain": [
       "Index(['Event.Id', 'Investigation.Type', 'Accident.Number', 'Event.Date',\n",
       "       'Location', 'Country', 'Latitude', 'Longitude', 'Airport.Code',\n",
       "       'Airport.Name', 'Injury.Severity', 'Aircraft.damage',\n",
       "       'Aircraft.Category', 'Registration.Number', 'Make', 'Model',\n",
       "       'Amateur.Built', 'Number.of.Engines', 'Engine.Type', 'FAR.Description',\n",
       "       'Schedule', 'Purpose.of.flight', 'Air.carrier', 'Total.Fatal.Injuries',\n",
       "       'Total.Serious.Injuries', 'Total.Minor.Injuries', 'Total.Uninjured',\n",
       "       'Weather.Condition', 'Broad.phase.of.flight', 'Report.Status',\n",
       "       'Publication.Date'],\n",
       "      dtype='object')"
      ]
     },
     "execution_count": 329,
     "metadata": {},
     "output_type": "execute_result"
    }
   ],
   "source": [
    "# checking column names\n",
    "df.columns"
   ]
  },
  {
   "cell_type": "code",
   "execution_count": 330,
   "id": "da075cd2-e7c2-4104-9b12-0b7b4e80b560",
   "metadata": {},
   "outputs": [
    {
     "name": "stdout",
     "output_type": "stream",
     "text": [
      "<class 'pandas.core.frame.DataFrame'>\n",
      "RangeIndex: 88889 entries, 0 to 88888\n",
      "Data columns (total 31 columns):\n",
      " #   Column                  Non-Null Count  Dtype  \n",
      "---  ------                  --------------  -----  \n",
      " 0   Event.Id                88889 non-null  object \n",
      " 1   Investigation.Type      88889 non-null  object \n",
      " 2   Accident.Number         88889 non-null  object \n",
      " 3   Event.Date              88889 non-null  object \n",
      " 4   Location                88837 non-null  object \n",
      " 5   Country                 88663 non-null  object \n",
      " 6   Latitude                34382 non-null  object \n",
      " 7   Longitude               34373 non-null  object \n",
      " 8   Airport.Code            50132 non-null  object \n",
      " 9   Airport.Name            52704 non-null  object \n",
      " 10  Injury.Severity         87889 non-null  object \n",
      " 11  Aircraft.damage         85695 non-null  object \n",
      " 12  Aircraft.Category       32287 non-null  object \n",
      " 13  Registration.Number     87507 non-null  object \n",
      " 14  Make                    88826 non-null  object \n",
      " 15  Model                   88797 non-null  object \n",
      " 16  Amateur.Built           88787 non-null  object \n",
      " 17  Number.of.Engines       82805 non-null  float64\n",
      " 18  Engine.Type             81793 non-null  object \n",
      " 19  FAR.Description         32023 non-null  object \n",
      " 20  Schedule                12582 non-null  object \n",
      " 21  Purpose.of.flight       82697 non-null  object \n",
      " 22  Air.carrier             16648 non-null  object \n",
      " 23  Total.Fatal.Injuries    77488 non-null  float64\n",
      " 24  Total.Serious.Injuries  76379 non-null  float64\n",
      " 25  Total.Minor.Injuries    76956 non-null  float64\n",
      " 26  Total.Uninjured         82977 non-null  float64\n",
      " 27  Weather.Condition       84397 non-null  object \n",
      " 28  Broad.phase.of.flight   61724 non-null  object \n",
      " 29  Report.Status           82505 non-null  object \n",
      " 30  Publication.Date        75118 non-null  object \n",
      "dtypes: float64(5), object(26)\n",
      "memory usage: 21.0+ MB\n"
     ]
    }
   ],
   "source": [
    "# information about the dataframe\n",
    "df.info()"
   ]
  },
  {
   "cell_type": "code",
   "execution_count": 331,
   "id": "61500ec6-b852-4af3-ae79-a134e737015a",
   "metadata": {},
   "outputs": [
    {
     "data": {
      "text/html": [
       "<div>\n",
       "<style scoped>\n",
       "    .dataframe tbody tr th:only-of-type {\n",
       "        vertical-align: middle;\n",
       "    }\n",
       "\n",
       "    .dataframe tbody tr th {\n",
       "        vertical-align: top;\n",
       "    }\n",
       "\n",
       "    .dataframe thead th {\n",
       "        text-align: right;\n",
       "    }\n",
       "</style>\n",
       "<table border=\"1\" class=\"dataframe\">\n",
       "  <thead>\n",
       "    <tr style=\"text-align: right;\">\n",
       "      <th></th>\n",
       "      <th>Number.of.Engines</th>\n",
       "      <th>Total.Fatal.Injuries</th>\n",
       "      <th>Total.Serious.Injuries</th>\n",
       "      <th>Total.Minor.Injuries</th>\n",
       "      <th>Total.Uninjured</th>\n",
       "    </tr>\n",
       "  </thead>\n",
       "  <tbody>\n",
       "    <tr>\n",
       "      <th>count</th>\n",
       "      <td>82805.000000</td>\n",
       "      <td>77488.000000</td>\n",
       "      <td>76379.000000</td>\n",
       "      <td>76956.000000</td>\n",
       "      <td>82977.000000</td>\n",
       "    </tr>\n",
       "    <tr>\n",
       "      <th>mean</th>\n",
       "      <td>1.146585</td>\n",
       "      <td>0.647855</td>\n",
       "      <td>0.279881</td>\n",
       "      <td>0.357061</td>\n",
       "      <td>5.325440</td>\n",
       "    </tr>\n",
       "    <tr>\n",
       "      <th>std</th>\n",
       "      <td>0.446510</td>\n",
       "      <td>5.485960</td>\n",
       "      <td>1.544084</td>\n",
       "      <td>2.235625</td>\n",
       "      <td>27.913634</td>\n",
       "    </tr>\n",
       "    <tr>\n",
       "      <th>min</th>\n",
       "      <td>0.000000</td>\n",
       "      <td>0.000000</td>\n",
       "      <td>0.000000</td>\n",
       "      <td>0.000000</td>\n",
       "      <td>0.000000</td>\n",
       "    </tr>\n",
       "    <tr>\n",
       "      <th>25%</th>\n",
       "      <td>1.000000</td>\n",
       "      <td>0.000000</td>\n",
       "      <td>0.000000</td>\n",
       "      <td>0.000000</td>\n",
       "      <td>0.000000</td>\n",
       "    </tr>\n",
       "    <tr>\n",
       "      <th>50%</th>\n",
       "      <td>1.000000</td>\n",
       "      <td>0.000000</td>\n",
       "      <td>0.000000</td>\n",
       "      <td>0.000000</td>\n",
       "      <td>1.000000</td>\n",
       "    </tr>\n",
       "    <tr>\n",
       "      <th>75%</th>\n",
       "      <td>1.000000</td>\n",
       "      <td>0.000000</td>\n",
       "      <td>0.000000</td>\n",
       "      <td>0.000000</td>\n",
       "      <td>2.000000</td>\n",
       "    </tr>\n",
       "    <tr>\n",
       "      <th>max</th>\n",
       "      <td>8.000000</td>\n",
       "      <td>349.000000</td>\n",
       "      <td>161.000000</td>\n",
       "      <td>380.000000</td>\n",
       "      <td>699.000000</td>\n",
       "    </tr>\n",
       "  </tbody>\n",
       "</table>\n",
       "</div>"
      ],
      "text/plain": [
       "       Number.of.Engines  Total.Fatal.Injuries  Total.Serious.Injuries  \\\n",
       "count       82805.000000          77488.000000            76379.000000   \n",
       "mean            1.146585              0.647855                0.279881   \n",
       "std             0.446510              5.485960                1.544084   \n",
       "min             0.000000              0.000000                0.000000   \n",
       "25%             1.000000              0.000000                0.000000   \n",
       "50%             1.000000              0.000000                0.000000   \n",
       "75%             1.000000              0.000000                0.000000   \n",
       "max             8.000000            349.000000              161.000000   \n",
       "\n",
       "       Total.Minor.Injuries  Total.Uninjured  \n",
       "count          76956.000000     82977.000000  \n",
       "mean               0.357061         5.325440  \n",
       "std                2.235625        27.913634  \n",
       "min                0.000000         0.000000  \n",
       "25%                0.000000         0.000000  \n",
       "50%                0.000000         1.000000  \n",
       "75%                0.000000         2.000000  \n",
       "max              380.000000       699.000000  "
      ]
     },
     "execution_count": 331,
     "metadata": {},
     "output_type": "execute_result"
    }
   ],
   "source": [
    "# checking statistical summary \n",
    "df.describe()"
   ]
  },
  {
   "cell_type": "code",
   "execution_count": 332,
   "id": "c1a991c5-3aa1-4283-b14f-69a184d289b8",
   "metadata": {},
   "outputs": [
    {
     "data": {
      "text/plain": [
       "0"
      ]
     },
     "execution_count": 332,
     "metadata": {},
     "output_type": "execute_result"
    }
   ],
   "source": [
    "#checking sum of duplicates\n",
    "df.duplicated().sum()"
   ]
  },
  {
   "cell_type": "code",
   "execution_count": 333,
   "id": "8eff27e0-0aa7-4ba5-a937-236a38448e4d",
   "metadata": {},
   "outputs": [
    {
     "data": {
      "text/plain": [
       "Make\n",
       "Cessna             22227\n",
       "Piper              12029\n",
       "CESSNA              4922\n",
       "Beech               4330\n",
       "PIPER               2841\n",
       "                   ...  \n",
       "Leonard Walters        1\n",
       "Maule Air Inc.         1\n",
       "Motley Vans            1\n",
       "Perlick                1\n",
       "ROYSE RALPH L          1\n",
       "Name: count, Length: 8237, dtype: int64"
      ]
     },
     "execution_count": 333,
     "metadata": {},
     "output_type": "execute_result"
    }
   ],
   "source": [
    "#getting the value count of each make.\n",
    "df['Make'].value_counts()"
   ]
  },
  {
   "cell_type": "markdown",
   "id": "b4096a94-04e1-409f-a976-5e7b543cfad6",
   "metadata": {},
   "source": [
    "### 2.2 Data Cleaning"
   ]
  },
  {
   "cell_type": "code",
   "execution_count": 334,
   "id": "b64219ab-305a-4d35-893c-691c6d279ddc",
   "metadata": {},
   "outputs": [
    {
     "data": {
      "text/plain": [
       "(88889, 31)"
      ]
     },
     "execution_count": 334,
     "metadata": {},
     "output_type": "execute_result"
    }
   ],
   "source": [
    "# dimesnsions of data frame\n",
    "df.shape"
   ]
  },
  {
   "cell_type": "code",
   "execution_count": 335,
   "id": "385f3f30-025e-4592-a2c2-50e94c721b35",
   "metadata": {},
   "outputs": [],
   "source": [
    "# # getting needed columns for our analysis\n",
    "new_columns = ['Event.Date', 'Aircraft.damage', 'Make', 'Amateur.Built', 'Number.of.Engines', 'Engine.Type', \n",
    "               'Purpose.of.flight', 'Total.Fatal.Injuries', 'Total.Serious.Injuries', 'Total.Minor.Injuries', \n",
    "               'Total.Uninjured','Weather.Condition', 'Broad.phase.of.flight', 'Report.Status',]\n",
    "df = df[new_columns]\n",
    "               "
   ]
  },
  {
   "cell_type": "code",
   "execution_count": 336,
   "id": "de21181e-2f38-4e68-bb44-39ed88f1f442",
   "metadata": {},
   "outputs": [],
   "source": [
    "#replacing the dots in the columns with an underscore\n",
    "df.columns = df.columns.str.replace('.','_')"
   ]
  },
  {
   "cell_type": "code",
   "execution_count": 337,
   "id": "f0da9900-2b21-4ed9-a88b-b5ca3326b2bc",
   "metadata": {},
   "outputs": [
    {
     "data": {
      "text/plain": [
       "Index(['Event_Date', 'Aircraft_damage', 'Make', 'Amateur_Built',\n",
       "       'Number_of_Engines', 'Engine_Type', 'Purpose_of_flight',\n",
       "       'Total_Fatal_Injuries', 'Total_Serious_Injuries',\n",
       "       'Total_Minor_Injuries', 'Total_Uninjured', 'Weather_Condition',\n",
       "       'Broad_phase_of_flight', 'Report_Status'],\n",
       "      dtype='object')"
      ]
     },
     "execution_count": 337,
     "metadata": {},
     "output_type": "execute_result"
    }
   ],
   "source": [
    "#Checking whether replacement worked\n",
    "df.columns"
   ]
  },
  {
   "cell_type": "code",
   "execution_count": 338,
   "id": "396bfe86-fc53-486a-8624-e780688c928b",
   "metadata": {},
   "outputs": [
    {
     "data": {
      "text/plain": [
       "(88889, 14)"
      ]
     },
     "execution_count": 338,
     "metadata": {},
     "output_type": "execute_result"
    }
   ],
   "source": [
    "#checking the dimensions of the new data frame\n",
    "df.shape"
   ]
  },
  {
   "cell_type": "code",
   "execution_count": 339,
   "id": "e40425fd-7aa1-4e33-82ef-b7801906fa48",
   "metadata": {},
   "outputs": [
    {
     "data": {
      "text/plain": [
       "Event_Date                    0\n",
       "Aircraft_damage            3194\n",
       "Make                         63\n",
       "Amateur_Built               102\n",
       "Number_of_Engines          6084\n",
       "Engine_Type                7096\n",
       "Purpose_of_flight          6192\n",
       "Total_Fatal_Injuries      11401\n",
       "Total_Serious_Injuries    12510\n",
       "Total_Minor_Injuries      11933\n",
       "Total_Uninjured            5912\n",
       "Weather_Condition          4492\n",
       "Broad_phase_of_flight     27165\n",
       "Report_Status              6384\n",
       "dtype: int64"
      ]
     },
     "execution_count": 339,
     "metadata": {},
     "output_type": "execute_result"
    }
   ],
   "source": [
    "#Checking for missing values\n",
    "df.isna().sum()"
   ]
  },
  {
   "cell_type": "markdown",
   "id": "bc8a6b25-c34f-4da0-aaf2-a6ffc803a6a2",
   "metadata": {},
   "source": [
    "## 3. Data Preparation\n",
    "##### Here we prepare our data by cleaning it "
   ]
  },
  {
   "cell_type": "code",
   "execution_count": 340,
   "id": "e2392e7b-51be-4bbc-a984-47ae7185e43b",
   "metadata": {},
   "outputs": [
    {
     "data": {
      "text/plain": [
       "Aircraft_damage\n",
       "Substantial    64148\n",
       "Destroyed      18623\n",
       "Minor           2805\n",
       "Unknown          119\n",
       "Name: count, dtype: int64"
      ]
     },
     "execution_count": 340,
     "metadata": {},
     "output_type": "execute_result"
    }
   ],
   "source": [
    "# Cleaning Aircraft_Damage\n",
    "# getting value count of aircraft damage\n",
    "df['Aircraft_damage'].value_counts()"
   ]
  },
  {
   "cell_type": "code",
   "execution_count": 341,
   "id": "1d48ba2f-2f7c-4dc7-b709-7743732b47c5",
   "metadata": {},
   "outputs": [
    {
     "data": {
      "text/plain": [
       "Aircraft_damage\n",
       "Substantial    64148\n",
       "Destroyed      18623\n",
       "Unknown         3313\n",
       "Minor           2805\n",
       "Name: count, dtype: int64"
      ]
     },
     "execution_count": 341,
     "metadata": {},
     "output_type": "execute_result"
    }
   ],
   "source": [
    "#replace missing values in aircraft damage with unknown\n",
    "df['Aircraft_damage'].fillna('Unknown', inplace=True)\n",
    "df['Aircraft_damage'].value_counts()"
   ]
  },
  {
   "cell_type": "code",
   "execution_count": 342,
   "id": "55b246e8-f559-4d0e-8b82-e15102cbef2e",
   "metadata": {},
   "outputs": [],
   "source": [
    "# Cleaning Number_of_Engines"
   ]
  },
  {
   "cell_type": "code",
   "execution_count": 343,
   "id": "d40f2564-d0f8-41f0-959d-538a6ea19b19",
   "metadata": {},
   "outputs": [
    {
     "data": {
      "text/plain": [
       "Number_of_Engines\n",
       "1.0    69582\n",
       "2.0    11079\n",
       "0.0     1226\n",
       "3.0      483\n",
       "4.0      431\n",
       "8.0        3\n",
       "6.0        1\n",
       "Name: count, dtype: int64"
      ]
     },
     "execution_count": 343,
     "metadata": {},
     "output_type": "execute_result"
    }
   ],
   "source": [
    "# getting value_counts of Number_of_Engines\n",
    "df['Number_of_Engines'].value_counts()"
   ]
  },
  {
   "cell_type": "code",
   "execution_count": 344,
   "id": "4e886ef1-03bb-42c9-b270-c7ca114ecc02",
   "metadata": {},
   "outputs": [
    {
     "data": {
      "text/plain": [
       "Number_of_Engines\n",
       "1.0    69582\n",
       "2.0    11079\n",
       "0.0     1226\n",
       "3.0      483\n",
       "4.0      431\n",
       "8.0        3\n",
       "6.0        1\n",
       "Name: count, dtype: int64"
      ]
     },
     "execution_count": 344,
     "metadata": {},
     "output_type": "execute_result"
    }
   ],
   "source": [
    "# dropping all rows  with missing values in the Number_of_Engines\n",
    "df.dropna(subset=['Number_of_Engines'], inplace=True)\n",
    "df['Number_of_Engines'].value_counts()"
   ]
  },
  {
   "cell_type": "code",
   "execution_count": 345,
   "id": "0a2a3b62-6de6-4942-a4ab-d8f5c816311e",
   "metadata": {},
   "outputs": [],
   "source": [
    "# cleaning fatal injuries, serious injuries,minor injuries and unijnured"
   ]
  },
  {
   "cell_type": "code",
   "execution_count": 346,
   "id": "2df5130e-fcaa-4746-8446-98d8bac183a4",
   "metadata": {},
   "outputs": [
    {
     "data": {
      "text/plain": [
       "Total_Fatal_Injuries\n",
       "0.0      56430\n",
       "1.0       8102\n",
       "2.0       4662\n",
       "3.0       1381\n",
       "4.0        930\n",
       "         ...  \n",
       "16.0         1\n",
       "47.0         1\n",
       "37.0         1\n",
       "68.0         1\n",
       "150.0        1\n",
       "Name: count, Length: 72, dtype: int64"
      ]
     },
     "execution_count": 346,
     "metadata": {},
     "output_type": "execute_result"
    }
   ],
   "source": [
    "# getting value_counts of Total_Fatal_Injuries\n",
    "df['Total_Fatal_Injuries'].value_counts()"
   ]
  },
  {
   "cell_type": "code",
   "execution_count": 347,
   "id": "81ef22c2-1a1a-43a4-8df0-7efb3b61e0bb",
   "metadata": {},
   "outputs": [],
   "source": [
    "df['Total_Fatal_Injuries'].fillna(0, inplace=True)\n",
    "df['Total_Serious_Injuries'].fillna(0, inplace=True)\n",
    "df['Total_Minor_Injuries'].fillna(0, inplace= True)\n",
    "df['Total_Uninjured'].fillna(0, inplace=True)"
   ]
  },
  {
   "cell_type": "code",
   "execution_count": 348,
   "id": "2d5a56fd-ecc0-4633-b387-f2411c98c65c",
   "metadata": {},
   "outputs": [
    {
     "data": {
      "text/plain": [
       "Total_Fatal_Injuries\n",
       "0.0      67043\n",
       "1.0       8102\n",
       "2.0       4662\n",
       "3.0       1381\n",
       "4.0        930\n",
       "         ...  \n",
       "16.0         1\n",
       "47.0         1\n",
       "37.0         1\n",
       "68.0         1\n",
       "150.0        1\n",
       "Name: count, Length: 72, dtype: int64"
      ]
     },
     "execution_count": 348,
     "metadata": {},
     "output_type": "execute_result"
    }
   ],
   "source": [
    "df['Total_Fatal_Injuries'].value_counts()"
   ]
  },
  {
   "cell_type": "markdown",
   "id": "de3f5fbf-ca55-4597-a631-eb50f315100c",
   "metadata": {},
   "source": [
    "##### N.B I used the column for Total fatal injuries  to show how code was executed but it applies to the other 3 columns i.e Total serious injuries, total minor injuries and total uninjured"
   ]
  },
  {
   "cell_type": "code",
   "execution_count": 349,
   "id": "64bde551-390b-4ff3-b555-e1261437b9e4",
   "metadata": {},
   "outputs": [],
   "source": [
    "# cleaning make"
   ]
  },
  {
   "cell_type": "code",
   "execution_count": 350,
   "id": "25908341-c6c3-44e4-841a-2f9cf6eb1704",
   "metadata": {},
   "outputs": [
    {
     "data": {
      "text/plain": [
       "Make\n",
       "Cessna                21755\n",
       "Piper                 11793\n",
       "CESSNA                 4435\n",
       "Beech                  4193\n",
       "PIPER                  2607\n",
       "                      ...  \n",
       "Alvin R. Kemmet           1\n",
       "William J. Knowles        1\n",
       "Temco Luscombe            1\n",
       "Woodruff Lancair          1\n",
       "ORLICAN S R O             1\n",
       "Name: count, Length: 7918, dtype: int64"
      ]
     },
     "execution_count": 350,
     "metadata": {},
     "output_type": "execute_result"
    }
   ],
   "source": [
    "#getting sum of unique values in Make\n",
    "df['Make'].value_counts()"
   ]
  },
  {
   "cell_type": "code",
   "execution_count": 351,
   "id": "6d7df9eb-1eb4-4aa0-a25d-61b2b6598cf6",
   "metadata": {},
   "outputs": [
    {
     "data": {
      "text/plain": [
       "Make\n",
       "Cessna           26190\n",
       "Piper            14400\n",
       "Beech             5104\n",
       "Bell              2430\n",
       "Boeing            1756\n",
       "                 ...  \n",
       "Wilderoder           1\n",
       "Underwood            1\n",
       "Troy                 1\n",
       "Ewertz               1\n",
       "Orlican s r o        1\n",
       "Name: count, Length: 7318, dtype: int64"
      ]
     },
     "execution_count": 351,
     "metadata": {},
     "output_type": "execute_result"
    }
   ],
   "source": [
    "# dropping missing values in a row in 'make' column and making the row names in 'make' column similar in character as there are similar names \n",
    "df.dropna(subset=['Make'], inplace=True)\n",
    "df['Make'] = df['Make'].str.capitalize()\n",
    "df['Make'].value_counts()"
   ]
  },
  {
   "cell_type": "code",
   "execution_count": 352,
   "id": "ea0c3592-c5c7-4358-be52-1dcdc5e9890b",
   "metadata": {},
   "outputs": [
    {
     "data": {
      "text/plain": [
       "Purpose_of_flight\n",
       "Personal                     47937\n",
       "Instructional                10315\n",
       "Unknown                       6117\n",
       "Aerial Application            4598\n",
       "Business                      3856\n",
       "Positioning                   1591\n",
       "Other Work Use                1185\n",
       "Ferry                          778\n",
       "Aerial Observation             734\n",
       "Public Aircraft                676\n",
       "Executive/corporate            524\n",
       "Flight Test                    382\n",
       "Skydiving                      177\n",
       "External Load                  109\n",
       "Banner Tow                      99\n",
       "Public Aircraft - Federal       97\n",
       "Air Race show                   80\n",
       "Public Aircraft - Local         72\n",
       "Public Aircraft - State         63\n",
       "Air Race/show                   56\n",
       "Glider Tow                      48\n",
       "Firefighting                    35\n",
       "Air Drop                         8\n",
       "ASHO                             6\n",
       "PUBS                             4\n",
       "PUBL                             1\n",
       "Name: count, dtype: int64"
      ]
     },
     "execution_count": 352,
     "metadata": {},
     "output_type": "execute_result"
    }
   ],
   "source": [
    "# cleaning purpose of flight\n",
    "# getting sum of unique values in Purpose_of_flight\n",
    "df['Purpose_of_flight'].value_counts()"
   ]
  },
  {
   "cell_type": "code",
   "execution_count": 353,
   "id": "51b7d30f-ab2b-457a-9243-9eedc5c3e97c",
   "metadata": {},
   "outputs": [],
   "source": [
    "#dropping rows with missing value in Purpose_of_flight column\n",
    "df.dropna(subset=['Purpose_of_flight'], inplace=True)"
   ]
  },
  {
   "cell_type": "code",
   "execution_count": 354,
   "id": "3eedb28e-32ba-4a40-b0da-fd39667d3181",
   "metadata": {},
   "outputs": [
    {
     "data": {
      "text/plain": [
       "Broad_phase_of_flight\n",
       "Landing        14955\n",
       "Takeoff        12163\n",
       "Cruise          9974\n",
       "Maneuvering     8006\n",
       "Approach        6242\n",
       "Climb           1949\n",
       "Taxi            1819\n",
       "Descent         1787\n",
       "Go-around       1342\n",
       "Standing         848\n",
       "Unknown          536\n",
       "Other            111\n",
       "Name: count, dtype: int64"
      ]
     },
     "execution_count": 354,
     "metadata": {},
     "output_type": "execute_result"
    }
   ],
   "source": [
    "# cleaning broad phase of flight\n",
    "# dropping rows with missing value in Broad_phase_of_flight column\n",
    "df.dropna(subset=['Broad_phase_of_flight'], inplace=True)\n",
    "df['Broad_phase_of_flight'].value_counts()"
   ]
  },
  {
   "cell_type": "code",
   "execution_count": null,
   "id": "e0534e2c-f050-407b-9824-ae048fc3fb92",
   "metadata": {},
   "outputs": [],
   "source": []
  },
  {
   "cell_type": "code",
   "execution_count": 355,
   "id": "b8526bfc-e6d0-4f41-baa3-f4999c4f1b64",
   "metadata": {},
   "outputs": [],
   "source": [
    "# cleaning weather condition\n",
    "## abbreviations meanings\n",
    "## VMC = visual meteorological conditions\n",
    "## IMC = instrument meteorological conditions\n",
    "## UNK = unknown\n",
    "## we will make all unknown values as UNK"
   ]
  },
  {
   "cell_type": "code",
   "execution_count": 356,
   "id": "9bdf6e43-c333-4b44-ab58-678123a7a949",
   "metadata": {},
   "outputs": [
    {
     "data": {
      "text/plain": [
       "Weather_Condition\n",
       "VMC    54633\n",
       "IMC     4527\n",
       "UNK      538\n",
       "Name: count, dtype: int64"
      ]
     },
     "execution_count": 356,
     "metadata": {},
     "output_type": "execute_result"
    }
   ],
   "source": [
    "# getting sum of unique values  in Weather_Condition\n",
    "df['Weather_Condition'].value_counts()"
   ]
  },
  {
   "cell_type": "code",
   "execution_count": 357,
   "id": "51c23c9c-a58b-4dac-bdeb-f0e1dee1183e",
   "metadata": {},
   "outputs": [
    {
     "data": {
      "text/plain": [
       "Weather_Condition\n",
       "VMC    54633\n",
       "IMC     4527\n",
       "UNK      572\n",
       "Name: count, dtype: int64"
      ]
     },
     "execution_count": 357,
     "metadata": {},
     "output_type": "execute_result"
    }
   ],
   "source": [
    "# filling rows with missing values with unk in Weather_Condition\n",
    "df['Weather_Condition'].fillna('UNK', inplace=True)\n",
    "df['Weather_Condition'].value_counts()"
   ]
  },
  {
   "cell_type": "code",
   "execution_count": 358,
   "id": "899e2702-ab6c-4eb3-acae-e8fc806ebe85",
   "metadata": {},
   "outputs": [
    {
     "data": {
      "text/plain": [
       "Amateur_Built\n",
       "No     54220\n",
       "Yes     5497\n",
       "Name: count, dtype: int64"
      ]
     },
     "execution_count": 358,
     "metadata": {},
     "output_type": "execute_result"
    }
   ],
   "source": [
    "# cleaning amateur built\n",
    "# Getting sum of unique values in Amateur_Built\n",
    "df['Amateur_Built'].value_counts()"
   ]
  },
  {
   "cell_type": "code",
   "execution_count": 359,
   "id": "17ecdf9a-cb91-458e-84f3-2e191aabbb9a",
   "metadata": {},
   "outputs": [],
   "source": [
    "#dropping missing values in rows with missing values in Amateur_Built column\n",
    "df.dropna(subset = ['Amateur_Built'], inplace=True)"
   ]
  },
  {
   "cell_type": "code",
   "execution_count": 360,
   "id": "59d3a204-d73d-46da-8e24-cfbfe967e397",
   "metadata": {},
   "outputs": [
    {
     "data": {
      "text/plain": [
       "Event_Date                  0\n",
       "Aircraft_damage             0\n",
       "Make                        0\n",
       "Amateur_Built               0\n",
       "Number_of_Engines           0\n",
       "Engine_Type               273\n",
       "Purpose_of_flight           0\n",
       "Total_Fatal_Injuries        0\n",
       "Total_Serious_Injuries      0\n",
       "Total_Minor_Injuries        0\n",
       "Total_Uninjured             0\n",
       "Weather_Condition           0\n",
       "Broad_phase_of_flight       0\n",
       "Report_Status               0\n",
       "dtype: int64"
      ]
     },
     "execution_count": 360,
     "metadata": {},
     "output_type": "execute_result"
    }
   ],
   "source": [
    "#rechecking for missing values\n",
    "df.isna().sum()"
   ]
  },
  {
   "cell_type": "code",
   "execution_count": 361,
   "id": "795e18a7-28cb-4b6d-a7ff-09f023d08f93",
   "metadata": {},
   "outputs": [
    {
     "data": {
      "text/plain": [
       "Engine_Type\n",
       "Reciprocating    52775\n",
       "Turbo Shaft       2366\n",
       "Turbo Prop        2054\n",
       "Turbo Fan         1207\n",
       "Unknown            550\n",
       "Turbo Jet          492\n",
       "Name: count, dtype: int64"
      ]
     },
     "execution_count": 361,
     "metadata": {},
     "output_type": "execute_result"
    }
   ],
   "source": [
    "#cleaning engine type\n",
    "# getting sum of unique values in Engine_Type\n",
    "df['Engine_Type'].value_counts()"
   ]
  },
  {
   "cell_type": "code",
   "execution_count": 362,
   "id": "cf0f6917-3f85-4ce2-a39c-fc1a5e960bb2",
   "metadata": {},
   "outputs": [
    {
     "data": {
      "text/plain": [
       "Engine_Type\n",
       "Reciprocating    52775\n",
       "Turbo Shaft       2366\n",
       "Turbo Prop        2054\n",
       "Turbo Fan         1207\n",
       "Unknown            823\n",
       "Turbo Jet          492\n",
       "Name: count, dtype: int64"
      ]
     },
     "execution_count": 362,
     "metadata": {},
     "output_type": "execute_result"
    }
   ],
   "source": [
    "#replacing missing vallues with Unknown in 'Engine_Type' column\n",
    "df['Engine_Type'].fillna('Unknown', inplace = True)\n",
    "df['Engine_Type'].value_counts()"
   ]
  },
  {
   "cell_type": "code",
   "execution_count": 363,
   "id": "94a2f7a8-c3f0-4702-9a75-1a26ae1d6d49",
   "metadata": {},
   "outputs": [
    {
     "data": {
      "text/plain": [
       "(59717, 14)"
      ]
     },
     "execution_count": 363,
     "metadata": {},
     "output_type": "execute_result"
    }
   ],
   "source": [
    "# rechecking our dimensions in the data\n",
    "df.shape"
   ]
  },
  {
   "cell_type": "code",
   "execution_count": 364,
   "id": "aa780b31-03cb-4622-b7d9-2523574c8c7c",
   "metadata": {},
   "outputs": [],
   "source": [
    "# save cleaned data as a csv file \n",
    "df.to_csv('Desktop/project/AviationData/new_Data.csv')"
   ]
  },
  {
   "cell_type": "code",
   "execution_count": 365,
   "id": "4a44c8af-0966-4031-83b7-def1dd500142",
   "metadata": {},
   "outputs": [
    {
     "data": {
      "text/html": [
       "<div>\n",
       "<style scoped>\n",
       "    .dataframe tbody tr th:only-of-type {\n",
       "        vertical-align: middle;\n",
       "    }\n",
       "\n",
       "    .dataframe tbody tr th {\n",
       "        vertical-align: top;\n",
       "    }\n",
       "\n",
       "    .dataframe thead th {\n",
       "        text-align: right;\n",
       "    }\n",
       "</style>\n",
       "<table border=\"1\" class=\"dataframe\">\n",
       "  <thead>\n",
       "    <tr style=\"text-align: right;\">\n",
       "      <th></th>\n",
       "      <th>Number_of_Engines</th>\n",
       "      <th>Total_Fatal_Injuries</th>\n",
       "      <th>Total_Serious_Injuries</th>\n",
       "      <th>Total_Minor_Injuries</th>\n",
       "      <th>Total_Uninjured</th>\n",
       "    </tr>\n",
       "  </thead>\n",
       "  <tbody>\n",
       "    <tr>\n",
       "      <th>count</th>\n",
       "      <td>59717.000000</td>\n",
       "      <td>59717.000000</td>\n",
       "      <td>59717.000000</td>\n",
       "      <td>59717.000000</td>\n",
       "      <td>59717.000000</td>\n",
       "    </tr>\n",
       "    <tr>\n",
       "      <th>mean</th>\n",
       "      <td>1.138872</td>\n",
       "      <td>0.390341</td>\n",
       "      <td>0.193295</td>\n",
       "      <td>0.328031</td>\n",
       "      <td>3.579701</td>\n",
       "    </tr>\n",
       "    <tr>\n",
       "      <th>std</th>\n",
       "      <td>0.430620</td>\n",
       "      <td>2.303963</td>\n",
       "      <td>0.777210</td>\n",
       "      <td>1.428781</td>\n",
       "      <td>21.739792</td>\n",
       "    </tr>\n",
       "    <tr>\n",
       "      <th>min</th>\n",
       "      <td>0.000000</td>\n",
       "      <td>0.000000</td>\n",
       "      <td>0.000000</td>\n",
       "      <td>0.000000</td>\n",
       "      <td>0.000000</td>\n",
       "    </tr>\n",
       "    <tr>\n",
       "      <th>25%</th>\n",
       "      <td>1.000000</td>\n",
       "      <td>0.000000</td>\n",
       "      <td>0.000000</td>\n",
       "      <td>0.000000</td>\n",
       "      <td>0.000000</td>\n",
       "    </tr>\n",
       "    <tr>\n",
       "      <th>50%</th>\n",
       "      <td>1.000000</td>\n",
       "      <td>0.000000</td>\n",
       "      <td>0.000000</td>\n",
       "      <td>0.000000</td>\n",
       "      <td>1.000000</td>\n",
       "    </tr>\n",
       "    <tr>\n",
       "      <th>75%</th>\n",
       "      <td>1.000000</td>\n",
       "      <td>0.000000</td>\n",
       "      <td>0.000000</td>\n",
       "      <td>0.000000</td>\n",
       "      <td>2.000000</td>\n",
       "    </tr>\n",
       "    <tr>\n",
       "      <th>max</th>\n",
       "      <td>4.000000</td>\n",
       "      <td>230.000000</td>\n",
       "      <td>81.000000</td>\n",
       "      <td>125.000000</td>\n",
       "      <td>699.000000</td>\n",
       "    </tr>\n",
       "  </tbody>\n",
       "</table>\n",
       "</div>"
      ],
      "text/plain": [
       "       Number_of_Engines  Total_Fatal_Injuries  Total_Serious_Injuries  \\\n",
       "count       59717.000000          59717.000000            59717.000000   \n",
       "mean            1.138872              0.390341                0.193295   \n",
       "std             0.430620              2.303963                0.777210   \n",
       "min             0.000000              0.000000                0.000000   \n",
       "25%             1.000000              0.000000                0.000000   \n",
       "50%             1.000000              0.000000                0.000000   \n",
       "75%             1.000000              0.000000                0.000000   \n",
       "max             4.000000            230.000000               81.000000   \n",
       "\n",
       "       Total_Minor_Injuries  Total_Uninjured  \n",
       "count          59717.000000     59717.000000  \n",
       "mean               0.328031         3.579701  \n",
       "std                1.428781        21.739792  \n",
       "min                0.000000         0.000000  \n",
       "25%                0.000000         0.000000  \n",
       "50%                0.000000         1.000000  \n",
       "75%                0.000000         2.000000  \n",
       "max              125.000000       699.000000  "
      ]
     },
     "execution_count": 365,
     "metadata": {},
     "output_type": "execute_result"
    }
   ],
   "source": [
    "# getting statistical information on our new data\n",
    "df.describe()"
   ]
  },
  {
   "cell_type": "markdown",
   "id": "8f4709e4-d51e-4716-aecd-69673c54fb68",
   "metadata": {},
   "source": [
    "## 3. Data analysis"
   ]
  },
  {
   "cell_type": "code",
   "execution_count": 366,
   "id": "d68eae0d-a96c-4d64-b0c7-cf15c6bdd59a",
   "metadata": {},
   "outputs": [
    {
     "data": {
      "image/png": "[encoded data removed]",
      "text/plain": [
       "<Figure size 1000x800 with 1 Axes>"
      ]
     },
     "metadata": {},
     "output_type": "display_data"
    }
   ],
   "source": [
    "# Using histograms to check frequency of engine types\n",
    "fig,ax= plt.subplots(figsize= (10,8))\n",
    "ax.hist(data =df, x='Engine_Type', bins = 6, edgecolor='black')\n",
    "ax.set_xlabel('Type')\n",
    "ax.set_ylabel('Frequency')\n",
    "ax.set_title('Frequency of Engine type')\n",
    "plt.savefig(\"C:/Users/HP/Pictures/Frequency of Engine Type.png\",dpi = 300, bbox_inches='tight')\n",
    "plt.show()"
   ]
  },
  {
   "cell_type": "markdown",
   "id": "c5cc9c0a-e8b7-425a-a366-584b8598af73",
   "metadata": {},
   "source": [
    "##### The above chart shows the Reciprocating engine type is most prefered"
   ]
  },
  {
   "cell_type": "code",
   "execution_count": 367,
   "id": "b2e05de9-41ae-4d06-ac17-c30e5f5aa7a0",
   "metadata": {},
   "outputs": [
    {
     "data": {
      "image/png": "[encoded data removed]",
      "text/plain": [
       "<Figure size 1000x800 with 1 Axes>"
      ]
     },
     "metadata": {},
     "output_type": "display_data"
    }
   ],
   "source": [
    "fig, ax = plt.subplots(figsize=(10, 8))\n",
    "\n",
    "# Group by Weather_Condition and sum Total_Fatal_Injuries\n",
    "fatalities_by_weather = df.groupby('Engine_Type')['Total_Fatal_Injuries'].sum().reset_index()\n",
    "\n",
    "sn.barplot(x='Engine_Type', y='Total_Fatal_Injuries', data=fatalities_by_weather)\n",
    "plt.title('Total Fatal Injuries by EngineType')\n",
    "plt.xlabel('Engine_Type')\n",
    "plt.ylabel('Total Fatal Injuries')\n",
    "plt.savefig(\"C:/Users/HP/Pictures/Total Fatal Injuries by EngineType.png\", dpi=300)\n",
    "plt.show()"
   ]
  },
  {
   "cell_type": "markdown",
   "id": "38116eeb-a672-4f26-af54-d72a237d3568",
   "metadata": {},
   "source": [
    "##### Chart shows more fatalities with Reciprocating engine type probably because they are most commonly used. So there is a direct corelation between total fatalities and engine type"
   ]
  },
  {
   "cell_type": "code",
   "execution_count": 368,
   "id": "19be31bd-c8f4-495e-ac4f-62fd9aa7f0cd",
   "metadata": {},
   "outputs": [
    {
     "data": {
      "image/png": "[encoded data removed]",
      "text/plain": [
       "<Figure size 640x480 with 1 Axes>"
      ]
     },
     "metadata": {},
     "output_type": "display_data"
    }
   ],
   "source": [
    "# plotting a bar graph of Weather_Codition value_count \n",
    "sn.countplot(x='Weather_Condition', data=df)\n",
    "plt.savefig(\"C:/Users/HP/Pictures/Weather Condition.png\", dpi=300)\n",
    "plt.show()"
   ]
  },
  {
   "cell_type": "markdown",
   "id": "9b7aa80a-c9a8-4fce-9931-9fa588706b12",
   "metadata": {},
   "source": [
    "##### The chart shows the frequency of incidences was higher when visibility was clear."
   ]
  },
  {
   "cell_type": "code",
   "execution_count": 369,
   "id": "03d1df69-4096-4104-98f5-7428273c68de",
   "metadata": {},
   "outputs": [
    {
     "data": {
      "image/png": "[encoded data removed]",
      "text/plain": [
       "<Figure size 1000x800 with 1 Axes>"
      ]
     },
     "metadata": {},
     "output_type": "display_data"
    }
   ],
   "source": [
    "fig, ax = plt.subplots(figsize=(10, 8))\n",
    "\n",
    "# Group by Weather_Condition and sum Total_Fatal_Injuries\n",
    "fatalities_by_weather = df.groupby('Weather_Condition')['Total_Fatal_Injuries'].sum().reset_index()\n",
    "\n",
    "sn.barplot(x='Weather_Condition', y='Total_Fatal_Injuries', data=fatalities_by_weather)\n",
    "plt.title('Total Fatal Injuries by Weather Condition')\n",
    "plt.xlabel('Weather Condition')\n",
    "plt.ylabel('Total Fatal Injuries')\n",
    "plt.savefig(\"C:/Users/HP/Pictures/Fatalities by Weather Condition\", dpi=300)\n",
    "plt.show()"
   ]
  },
  {
   "cell_type": "markdown",
   "id": "bce944fe-5f93-42d0-9c4d-283926f26706",
   "metadata": {},
   "source": [
    "##### The chart above shows most fatalities occured when there was clear visibility."
   ]
  },
  {
   "cell_type": "code",
   "execution_count": 370,
   "id": "9aa04f0b-98d7-4b52-9da2-e76b9ee874bc",
   "metadata": {},
   "outputs": [
    {
     "data": {
      "image/png": "[encoded data removed]",
      "text/plain": [
       "<Figure size 1000x800 with 1 Axes>"
      ]
     },
     "metadata": {},
     "output_type": "display_data"
    }
   ],
   "source": [
    "from logging import fatal\n",
    "# plot bar chart of top 10 Make and value_counts of Total_Injuries\n",
    "fig, ax = plt.subplots(figsize=(10, 8))\n",
    "fatal_by_make = df.groupby('Make')['Total_Fatal_Injuries'].sum().reset_index()\n",
    "fatal_by_make = fatal_by_make.sort_values(by='Total_Fatal_Injuries', ascending=False)\n",
    "fatal_by_make = fatal_by_make.head(10)\n",
    "sn.barplot(x='Make', y='Total_Fatal_Injuries', data=fatal_by_make) \n",
    "plt.title('Total Fatal Injuries by Make')\n",
    "plt.xlabel('Make')\n",
    "plt.ylabel('Total Fatal Injuries')\n",
    "plt.xticks(rotation=90)\n",
    "plt.savefig(\"C:/Users/HP/Pictures/Total Fatal Injuries by Make.png\",dpi=300)\n",
    "plt.show()"
   ]
  },
  {
   "cell_type": "markdown",
   "id": "b3591290-823b-477d-9ec3-cc16b8c39963",
   "metadata": {},
   "source": [
    "##### The Chart above shows fatalities by make with Cessna bein at the top the list"
   ]
  },
  {
   "cell_type": "code",
   "execution_count": 371,
   "id": "da1c5490-5a76-43a4-a1eb-80354762327a",
   "metadata": {},
   "outputs": [
    {
     "name": "stderr",
     "output_type": "stream",
     "text": [
      "C:\\Users\\HP\\anaconda3\\Lib\\site-packages\\seaborn\\_oldcore.py:1119: FutureWarning: use_inf_as_na option is deprecated and will be removed in a future version. Convert inf values to NaN before operating instead.\n",
      "  with pd.option_context('mode.use_inf_as_na', True):\n"
     ]
    },
    {
     "data": {
      "image/png": "[encoded data removed]",
      "text/plain": [
       "<Figure size 800x600 with 1 Axes>"
      ]
     },
     "metadata": {},
     "output_type": "display_data"
    }
   ],
   "source": [
    "# histogram on count_values of Number_of_Engines\n",
    "fig, ax = plt.subplots(figsize=(8, 6))\n",
    "sn.histplot(df['Number_of_Engines'])\n",
    "plt.title('Histogram of Number of Engines')\n",
    "plt.xlabel('Number of Engines')\n",
    "plt.ylabel('Frequency')\n",
    "plt.savefig(\"C:/Users/HP/Pictures/Frequency of Number of Engines.png\",dpi=300)\n",
    "plt.show()"
   ]
  },
  {
   "cell_type": "markdown",
   "id": "28c5093b-2eec-4af4-be57-13b41d92b927",
   "metadata": {},
   "source": [
    "##### The bar graph shows planes with 1 engine have the most  fatalities possibly because they are light aircrafts "
   ]
  },
  {
   "cell_type": "code",
   "execution_count": 372,
   "id": "b3dbb855-0fe4-4cd8-a563-0608c910b13a",
   "metadata": {},
   "outputs": [
    {
     "data": {
      "image/png": "[encoded data removed]",
      "text/plain": [
       "<Figure size 1000x800 with 1 Axes>"
      ]
     },
     "metadata": {},
     "output_type": "display_data"
    }
   ],
   "source": [
    "fig, ax = plt.subplots(figsize=(10, 8))\n",
    "\n",
    "# Group by Weather_Condition and sum Total_Fatal_Injuries\n",
    "fatalities_by_weather = df.groupby('Number_of_Engines')['Total_Fatal_Injuries'].sum().reset_index()\n",
    "\n",
    "sn.barplot(x='Number_of_Engines', y='Total_Fatal_Injuries', data=fatalities_by_weather)\n",
    "plt.title('Total Fatal Injuries by Number_of_Engines')\n",
    "plt.xlabel('Number_of_Engines')\n",
    "plt.ylabel('Total Fatal Injuries')\n",
    "plt.savefig(\"C:/Users/HP/Pictures/Total Fatal Injuries by Number of Engines.png\", dpi=300)\n",
    "plt.show()"
   ]
  },
  {
   "cell_type": "markdown",
   "id": "b3a8778d-be7a-4fb2-8568-987b65a20fa9",
   "metadata": {},
   "source": [
    "##### The Chart shows single engines cause most fatalities"
   ]
  },
  {
   "cell_type": "markdown",
   "id": "16cb11c8-6472-4fa6-8939-7c02c1e2242e",
   "metadata": {},
   "source": [
    "## 5. Summary"
   ]
  },
  {
   "cell_type": "markdown",
   "id": "7254006c-647a-482d-9836-9028b15fcf2b",
   "metadata": {},
   "source": [
    "#### 1. Multiple engine plane are safer to use beacuse they have low fatalities and accidents\n",
    "#### 2. Prioritise getting the planes with latest technology \n",
    "#### 3. Rigorius training and retraining of pilots in case of emergency like failure of instruments "
   ]
  },
  {
   "cell_type": "markdown",
   "id": "2b024c92-18d3-45f8-855b-79347791c38d",
   "metadata": {},
   "source": [
    "#### In conclusion, more information is required like size of plane, weight etc for further analysis and a more informed analysis."
   ]
  },
  {
   "cell_type": "code",
   "execution_count": null,
   "id": "3fab3c48-bf47-46dc-b2de-e183cdce863b",
   "metadata": {},
   "outputs": [],
   "source": []
  }
 ],
 "metadata": {
  "kernelspec": {
   "display_name": "Python [conda env:base] *",
   "language": "python",
   "name": "conda-base-py"
  },
  "language_info": {
   "codemirror_mode": {
    "name": "ipython",
    "version": 3
   },
   "file_extension": ".py",
   "mimetype": "text/x-python",
   "name": "python",
   "nbconvert_exporter": "python",
   "pygments_lexer": "ipython3",
   "version": "3.11.7"
  }
 },
 "nbformat": 4,
 "nbformat_minor": 5
}
